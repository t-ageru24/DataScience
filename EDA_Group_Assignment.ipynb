{
 "cells": [
  {
   "cell_type": "markdown",
   "id": "8c568f44-6270-4800-96ae-d7c203232a3c",
   "metadata": {},
   "source": [
    "Note: Hypothesis Testing is one way of making statistical inference from sample data to population .\n",
    "General steps in hypothesis testing:\r\n",
    "1. The first step in hypothesis testing is to specify the null hypothesis (H0) and the alternative \r\n",
    "hypothesis (H1). \r\n",
    "2. The next step is to select a signifit canlee.l,\r\n",
    "3. Identify the sampling distribution of est theimima (Z, t, Chi, )tor.\r\n",
    "4. The fourth step is to calculate a statistic analogous to the parameter specified by the null \r\n",
    "hypothesis.\r\n",
    "5. Identify the critical region.\r\n",
    "6. Making decision.\r\n",
    "7. Summarizat Note.ise"
   ]
  },
  {
   "cell_type": "markdown",
   "id": "2a2e2d6b-3329-488c-8783-9479b49cba86",
   "metadata": {},
   "source": [
    "The chi-square (χ2) test can be used to evaluate a relationship between two nominal or ordinal variable.\n",
    "The purpose of chi-square test is to find out whether the associations between two categorical variables are statistically significant"
   ]
  },
  {
   "cell_type": "markdown",
   "id": "3171dd75-9df0-4a29-a87f-715f71414b0e",
   "metadata": {},
   "source": [
    "Assumptions of Chi-square test \n",
    " The data are obtained from a random sample.\n",
    " All individuals expected counts should be one or more (no more than 20% of expected \n",
    "counts are less than 5)\n",
    "Note:It is okay to have some expected counts less than 5, provided none are less than 1, and at \n",
    "least 80% of the expected counts are equal to or greater than 5."
   ]
  },
  {
   "cell_type": "markdown",
   "id": "6857d1d1-88f7-4ae9-a858-5d0c857eaf55",
   "metadata": {},
   "source": [
    "The Chi-square test is used to test:\n",
    "A_Testing independence (or association):It examines the relationship between two categorical variables to determine if they are independent.\n",
    "For instance we may be interested to:\r",
    "_ Whether the presence or absence of hypertension is independent of smoking habit or not._Whether the size of family is independent of level of education attained by the mothers.\n",
    "_Whether there is an association between socio-economic status and the academic \n",
    "performance of students.ar\n",
    ": : There is no association b/n A & B =  independent\n",
    "H1: Not HThere is association b/n A & B)\n",
    "\n",
    "B_Test of homogeneity(similarity):is a way of determining whether two or more different populations (or \r\n",
    "groups) share the same distribution of a single categorical variable.This test is applied to a single \n",
    "categorical variable from two or more populations or groups.\n",
    " For exampl,\n",
    "_Ddo people of different\r\n",
    "races have the same proportion of smokers to non-smoke\n",
    "_D do different education levels hav \r\n",
    "different proportions of Democrats, Republicans, and Independe\n",
    "H0: two or more populations have the same proportion of individuals with some characteristics.\r\n",
    "H1: At least one of the population proportions is different from the others.\r\n",
    "CTest of goodness of fit: is likely to be performed by people who have a theory of what the proportions \r\n",
    "should be in each category It is used to see whether a frequency distribution fits a specific pattern. \r\n",
    "Goodness of fit test also involves only one categorical variable.._nt.\r",
    "han 5."
   ]
  },
  {
   "cell_type": "code",
   "execution_count": 2,
   "id": "43afc6d1-f899-415e-805e-b091e92df953",
   "metadata": {},
   "outputs": [],
   "source": [
    "# First Import/Load the data\n",
    "import pandas as pd\n",
    "import numpy as np\n",
    "import matplotlib.pyplot as plt\n",
    "import seaborn as sns\n",
    "df=pd.read_csv(\"IHMStefanini_industrial_safety_and_health_database.csv\")"
   ]
  },
  {
   "cell_type": "code",
   "execution_count": 3,
   "id": "d96d8d82-fadd-4226-89d3-51cd60a306ad",
   "metadata": {},
   "outputs": [
    {
     "data": {
      "text/html": [
       "<div>\n",
       "<style scoped>\n",
       "    .dataframe tbody tr th:only-of-type {\n",
       "        vertical-align: middle;\n",
       "    }\n",
       "\n",
       "    .dataframe tbody tr th {\n",
       "        vertical-align: top;\n",
       "    }\n",
       "\n",
       "    .dataframe thead th {\n",
       "        text-align: right;\n",
       "    }\n",
       "</style>\n",
       "<table border=\"1\" class=\"dataframe\">\n",
       "  <thead>\n",
       "    <tr style=\"text-align: right;\">\n",
       "      <th></th>\n",
       "      <th>Data</th>\n",
       "      <th>Countries</th>\n",
       "      <th>Local</th>\n",
       "      <th>Industry Sector</th>\n",
       "      <th>Accident Level</th>\n",
       "      <th>Potential Accident Level</th>\n",
       "      <th>Genre</th>\n",
       "      <th>Employee ou Terceiro</th>\n",
       "      <th>Risco Critico</th>\n",
       "    </tr>\n",
       "  </thead>\n",
       "  <tbody>\n",
       "    <tr>\n",
       "      <th>0</th>\n",
       "      <td>2016-01-01 00:00:00</td>\n",
       "      <td>Country_01</td>\n",
       "      <td>Local_01</td>\n",
       "      <td>Mining</td>\n",
       "      <td>I</td>\n",
       "      <td>IV</td>\n",
       "      <td>Male</td>\n",
       "      <td>Third Party</td>\n",
       "      <td>Pressed</td>\n",
       "    </tr>\n",
       "    <tr>\n",
       "      <th>1</th>\n",
       "      <td>2016-01-02 00:00:00</td>\n",
       "      <td>Country_02</td>\n",
       "      <td>Local_02</td>\n",
       "      <td>Mining</td>\n",
       "      <td>I</td>\n",
       "      <td>IV</td>\n",
       "      <td>Male</td>\n",
       "      <td>Employee</td>\n",
       "      <td>Pressurized Systems</td>\n",
       "    </tr>\n",
       "    <tr>\n",
       "      <th>2</th>\n",
       "      <td>2016-01-06 00:00:00</td>\n",
       "      <td>Country_01</td>\n",
       "      <td>Local_03</td>\n",
       "      <td>Mining</td>\n",
       "      <td>I</td>\n",
       "      <td>III</td>\n",
       "      <td>Male</td>\n",
       "      <td>Third Party (Remote)</td>\n",
       "      <td>Manual Tools</td>\n",
       "    </tr>\n",
       "    <tr>\n",
       "      <th>3</th>\n",
       "      <td>2016-01-08 00:00:00</td>\n",
       "      <td>Country_01</td>\n",
       "      <td>Local_04</td>\n",
       "      <td>Mining</td>\n",
       "      <td>I</td>\n",
       "      <td>I</td>\n",
       "      <td>Male</td>\n",
       "      <td>Third Party</td>\n",
       "      <td>Others</td>\n",
       "    </tr>\n",
       "    <tr>\n",
       "      <th>4</th>\n",
       "      <td>2016-01-10 00:00:00</td>\n",
       "      <td>Country_01</td>\n",
       "      <td>Local_04</td>\n",
       "      <td>Mining</td>\n",
       "      <td>IV</td>\n",
       "      <td>IV</td>\n",
       "      <td>Male</td>\n",
       "      <td>Third Party</td>\n",
       "      <td>Others</td>\n",
       "    </tr>\n",
       "  </tbody>\n",
       "</table>\n",
       "</div>"
      ],
      "text/plain": [
       "                  Data   Countries     Local Industry Sector Accident Level  \\\n",
       "0  2016-01-01 00:00:00  Country_01  Local_01          Mining              I   \n",
       "1  2016-01-02 00:00:00  Country_02  Local_02          Mining              I   \n",
       "2  2016-01-06 00:00:00  Country_01  Local_03          Mining              I   \n",
       "3  2016-01-08 00:00:00  Country_01  Local_04          Mining              I   \n",
       "4  2016-01-10 00:00:00  Country_01  Local_04          Mining             IV   \n",
       "\n",
       "  Potential Accident Level Genre  Employee ou Terceiro        Risco Critico  \n",
       "0                       IV  Male           Third Party              Pressed  \n",
       "1                       IV  Male              Employee  Pressurized Systems  \n",
       "2                      III  Male  Third Party (Remote)         Manual Tools  \n",
       "3                        I  Male           Third Party               Others  \n",
       "4                       IV  Male           Third Party               Others  "
      ]
     },
     "execution_count": 3,
     "metadata": {},
     "output_type": "execute_result"
    }
   ],
   "source": [
    "df.head()"
   ]
  },
  {
   "cell_type": "markdown",
   "id": "8acd96fb-d2fc-46a7-97fa-f42d0d295d42",
   "metadata": {},
   "source": [
    "Data Preparation\n",
    "First, We need checking for missing values, understanding the distribution of different variables, and preparing the data for hypothesis testing."
   ]
  },
  {
   "cell_type": "code",
   "execution_count": 7,
   "id": "2d1aa5e5-1c8f-4861-86b1-e85674dc6366",
   "metadata": {},
   "outputs": [
    {
     "data": {
      "text/html": [
       "<div>\n",
       "<style scoped>\n",
       "    .dataframe tbody tr th:only-of-type {\n",
       "        vertical-align: middle;\n",
       "    }\n",
       "\n",
       "    .dataframe tbody tr th {\n",
       "        vertical-align: top;\n",
       "    }\n",
       "\n",
       "    .dataframe thead th {\n",
       "        text-align: right;\n",
       "    }\n",
       "</style>\n",
       "<table border=\"1\" class=\"dataframe\">\n",
       "  <thead>\n",
       "    <tr style=\"text-align: right;\">\n",
       "      <th></th>\n",
       "      <th>Data</th>\n",
       "      <th>Countries</th>\n",
       "      <th>Local</th>\n",
       "      <th>Industry Sector</th>\n",
       "      <th>Accident Level</th>\n",
       "      <th>Potential Accident Level</th>\n",
       "      <th>Genre</th>\n",
       "      <th>Employee ou Terceiro</th>\n",
       "      <th>Risco Critico</th>\n",
       "    </tr>\n",
       "  </thead>\n",
       "  <tbody>\n",
       "    <tr>\n",
       "      <th>count</th>\n",
       "      <td>439</td>\n",
       "      <td>439</td>\n",
       "      <td>439</td>\n",
       "      <td>439</td>\n",
       "      <td>439</td>\n",
       "      <td>439</td>\n",
       "      <td>439</td>\n",
       "      <td>439</td>\n",
       "      <td>439</td>\n",
       "    </tr>\n",
       "    <tr>\n",
       "      <th>unique</th>\n",
       "      <td>287</td>\n",
       "      <td>3</td>\n",
       "      <td>12</td>\n",
       "      <td>3</td>\n",
       "      <td>5</td>\n",
       "      <td>6</td>\n",
       "      <td>2</td>\n",
       "      <td>3</td>\n",
       "      <td>34</td>\n",
       "    </tr>\n",
       "    <tr>\n",
       "      <th>top</th>\n",
       "      <td>2016-02-26 00:00:00</td>\n",
       "      <td>Country_01</td>\n",
       "      <td>Local_03</td>\n",
       "      <td>Mining</td>\n",
       "      <td>I</td>\n",
       "      <td>IV</td>\n",
       "      <td>Male</td>\n",
       "      <td>Third Party</td>\n",
       "      <td>Others</td>\n",
       "    </tr>\n",
       "    <tr>\n",
       "      <th>freq</th>\n",
       "      <td>13</td>\n",
       "      <td>263</td>\n",
       "      <td>90</td>\n",
       "      <td>241</td>\n",
       "      <td>328</td>\n",
       "      <td>155</td>\n",
       "      <td>417</td>\n",
       "      <td>189</td>\n",
       "      <td>232</td>\n",
       "    </tr>\n",
       "  </tbody>\n",
       "</table>\n",
       "</div>"
      ],
      "text/plain": [
       "                       Data   Countries     Local Industry Sector  \\\n",
       "count                   439         439       439             439   \n",
       "unique                  287           3        12               3   \n",
       "top     2016-02-26 00:00:00  Country_01  Local_03          Mining   \n",
       "freq                     13         263        90             241   \n",
       "\n",
       "       Accident Level Potential Accident Level Genre Employee ou Terceiro  \\\n",
       "count             439                      439   439                  439   \n",
       "unique              5                        6     2                    3   \n",
       "top                 I                       IV  Male          Third Party   \n",
       "freq              328                      155   417                  189   \n",
       "\n",
       "       Risco Critico  \n",
       "count            439  \n",
       "unique            34  \n",
       "top           Others  \n",
       "freq             232  "
      ]
     },
     "execution_count": 7,
     "metadata": {},
     "output_type": "execute_result"
    }
   ],
   "source": [
    "df.describe()"
   ]
  },
  {
   "cell_type": "code",
   "execution_count": 9,
   "id": "d175735e-63ff-4ce4-8b31-de9846809f93",
   "metadata": {},
   "outputs": [
    {
     "name": "stdout",
     "output_type": "stream",
     "text": [
      "<class 'pandas.core.frame.DataFrame'>\n",
      "RangeIndex: 439 entries, 0 to 438\n",
      "Data columns (total 9 columns):\n",
      " #   Column                    Non-Null Count  Dtype \n",
      "---  ------                    --------------  ----- \n",
      " 0   Data                      439 non-null    object\n",
      " 1   Countries                 439 non-null    object\n",
      " 2   Local                     439 non-null    object\n",
      " 3   Industry Sector           439 non-null    object\n",
      " 4   Accident Level            439 non-null    object\n",
      " 5   Potential Accident Level  439 non-null    object\n",
      " 6   Genre                     439 non-null    object\n",
      " 7   Employee ou Terceiro      439 non-null    object\n",
      " 8   Risco Critico             439 non-null    object\n",
      "dtypes: object(9)\n",
      "memory usage: 31.0+ KB\n"
     ]
    }
   ],
   "source": [
    "df.info()"
   ]
  },
  {
   "cell_type": "code",
   "execution_count": 11,
   "id": "f6a95b3b-2cd7-4201-9c5c-36c94b27eb57",
   "metadata": {},
   "outputs": [
    {
     "data": {
      "text/plain": [
       "Data                        0\n",
       "Countries                   0\n",
       "Local                       0\n",
       "Industry Sector             0\n",
       "Accident Level              0\n",
       "Potential Accident Level    0\n",
       "Genre                       0\n",
       "Employee ou Terceiro        0\n",
       "Risco Critico               0\n",
       "dtype: int64"
      ]
     },
     "execution_count": 11,
     "metadata": {},
     "output_type": "execute_result"
    }
   ],
   "source": [
    "# To check the missing values\n",
    "df.isnull().sum()"
   ]
  },
  {
   "cell_type": "markdown",
   "id": "4c4a128d-8d1f-4ab0-8dc2-29648afc6ac1",
   "metadata": {},
   "source": [
    "As We can see in the description the is not missing data"
   ]
  },
  {
   "cell_type": "markdown",
   "id": "e9c6fff5-32b2-4963-a157-6f0de4fd10f1",
   "metadata": {},
   "source": [
    "perform these Hypothesis testing:\n",
    "1. Check the proportion of metal, mining, and others sector in Country_01 and whether the difference is \n",
    "statistically significant?"
   ]
  },
  {
   "cell_type": "markdown",
   "id": "759900e1-267c-49a7-8069-ee27898fe355",
   "metadata": {},
   "source": [
    "Step:1 Sepecify H0 & H1:\n",
    "Null Hypothesis (H0): The proportion of metal, mining, and other sectors in Country_01 is the same (proportion of Metal = Mining = Others)\n",
    "Alternative Hypothesis (H1): The proportion of metal, mining, and other sectors in Country_01 is different."
   ]
  },
  {
   "cell_type": "code",
   "execution_count": 18,
   "id": "9cd4e53b-7747-47e2-8562-ba62887faaf6",
   "metadata": {},
   "outputs": [
    {
     "name": "stdout",
     "output_type": "stream",
     "text": [
      "Records of Only Country_01 is: \n",
      "                     Data   Countries     Local Industry Sector Accident Level  \\\n",
      "0    2016-01-01 00:00:00  Country_01  Local_01          Mining              I   \n",
      "2    2016-01-06 00:00:00  Country_01  Local_03          Mining              I   \n",
      "3    2016-01-08 00:00:00  Country_01  Local_04          Mining              I   \n",
      "4    2016-01-10 00:00:00  Country_01  Local_04          Mining             IV   \n",
      "7    2016-01-17 00:00:00  Country_01  Local_04          Mining              I   \n",
      "..                   ...         ...       ...             ...            ...   \n",
      "427  2017-06-20 00:00:00  Country_01  Local_01          Mining              I   \n",
      "428  2017-06-24 00:00:00  Country_01  Local_03          Mining              I   \n",
      "434  2017-07-04 00:00:00  Country_01  Local_04          Mining              I   \n",
      "435  2017-07-04 00:00:00  Country_01  Local_03          Mining              I   \n",
      "438  2017-07-09 00:00:00  Country_01  Local_04          Mining              I   \n",
      "\n",
      "    Potential Accident Level   Genre  Employee ou Terceiro  \\\n",
      "0                         IV    Male           Third Party   \n",
      "2                        III    Male  Third Party (Remote)   \n",
      "3                          I    Male           Third Party   \n",
      "4                         IV    Male           Third Party   \n",
      "7                        III    Male           Third Party   \n",
      "..                       ...     ...                   ...   \n",
      "427                       IV    Male           Third Party   \n",
      "428                       II  Female           Third Party   \n",
      "434                      III    Male           Third Party   \n",
      "435                       II  Female              Employee   \n",
      "438                       II  Female           Third Party   \n",
      "\n",
      "                    Risco Critico  \n",
      "0                         Pressed  \n",
      "2                    Manual Tools  \n",
      "3                          Others  \n",
      "4                          Others  \n",
      "7                         Pressed  \n",
      "..                            ...  \n",
      "427                        Others  \n",
      "428                           Cut  \n",
      "434                        Others  \n",
      "435                        Others  \n",
      "438  Fall prevention (same level)  \n",
      "\n",
      "[263 rows x 9 columns]\n",
      "Sector counts in Country_01 is: \n",
      " Industry Sector\n",
      "Mining    203\n",
      "Metals     58\n",
      "Others      2\n",
      "Name: count, dtype: int64\n",
      "Chi2 Stat: 0.0, \n",
      " p-value: 1.0\n",
      "Fail to reject the null hypothesis: The proportion of metal, mining, and other sectors in Country_01 is the same.\n"
     ]
    }
   ],
   "source": [
    "import pandas as pd\n",
    "import numpy as np\n",
    "from scipy.stats import chi2_contingency\n",
    "\n",
    "# select a significant level a = 0.05\n",
    "# First Select only the records for Country_01.\n",
    "country_01 = df[df['Countries'] == 'Country_01']\n",
    "print(f\"Records of Only Country_01 is: \\n {country_01}\")\n",
    "\n",
    "# Then Group by Industry Sector i.e (Metal, Mining, and Other) in Country_01 an then count of accidents in each sector\n",
    "sector_counts = country_01['Industry Sector'].value_counts()\n",
    "print(f\"Sector counts in Country_01 is: \\n {sector_counts}\")\n",
    "\n",
    "# Perform a Chi-square test for the goodness of fit to see if the observed frequencies differ significantly from the expected frequencies.\n",
    "chi2_stat, p_val, dof, ex = chi2_contingency(pd.DataFrame([sector_counts.values]))\n",
    "print(f\"Chi2 Stat: {chi2_stat}, \\n p-value: {p_val}\")\n",
    "\n",
    "# Interpretation of our data\n",
    "if p_val < 0.05:\n",
    "    print(\"Reject the null hypothesis: The proportion of metal, mining, and other sectors in Country_01 is different.\")\n",
    "else:\n",
    "    print(\"Fail to reject the null hypothesis: The proportion of metal, mining, and other sectors in Country_01 is the same.\")\n"
   ]
  },
  {
   "cell_type": "markdown",
   "id": "4655f648-00d9-48e8-9862-c925261c81dd",
   "metadata": {},
   "source": [
    "Step 7: Conclusion: At 0.05 level of significance we have an evidence to say that the proportion of metal, mining, and other sectors in Country_01 is the same\n"
   ]
  },
  {
   "cell_type": "markdown",
   "id": "a32dcab5-124e-4ebb-9f3f-7a0aa6de9614",
   "metadata": {},
   "source": [
    "2. Employee type by Gender - Is the distribution of employee type differ significantly gender wise?"
   ]
  },
  {
   "cell_type": "markdown",
   "id": "398dd39f-0f1b-42d2-9069-5d545301c801",
   "metadata": {},
   "source": [
    "Null Hypothesis (H0): The distribution of employee type (Employee or Third Party) does not differ significantly by gender.\n",
    "\n",
    "Alternative Hypothesis (H1): The distribution of employee type (Employee or Third Party) differs significantly by gender.\n",
    "\n",
    "Steps we follow to do this\n",
    "Group by Gender and Employee Type: Calculate the count of each employee type for both males and females.\n",
    "Statistical Test: Perform a Chi-square test for independence to determine if there is a significant association between gender and employee type."
   ]
  },
  {
   "cell_type": "code",
   "execution_count": 44,
   "id": "a97f0ad7-e0df-4ca6-bfcc-d1bfd74ca389",
   "metadata": {},
   "outputs": [
    {
     "name": "stdout",
     "output_type": "stream",
     "text": [
      "Number Of Employee by Group is : \n",
      " Employee ou Terceiro  Employee  Third Party  Third Party (Remote)\n",
      "Genre                                                            \n",
      "Female                       8            9                     5\n",
      "Male                       173          180                    64\n",
      "Chi2 Stat: 0.8817969860504556, p-value: 0.6434580187349547\n",
      "Fail to reject the null hypothesis: The distribution of employee type does not differ significantly by gender.\n"
     ]
    }
   ],
   "source": [
    "#  Distribution of Employee Type by Gender\n",
    "gender_employee_data = pd.crosstab(df['Genre'], df['Employee ou Terceiro'])\n",
    "print(f\"Number Of Employee by Group is : \\n {gender_employee_data}\")\n",
    "\n",
    "# Chi-square test for independence\n",
    "chi2_stat, p_val, dof, ex = chi2_contingency(gender_employee_data)\n",
    "print(f\"Chi2 Stat: {chi2_stat}, p-value: {p_val}\")\n",
    "\n",
    "# Interpretation of the data\n",
    "if p_val < 0.05:\n",
    "    print(\"Reject the null hypothesis: The distribution of employee type differs significantly by gender.\")\n",
    "else:\n",
    "    print(\"Fail to reject the null hypothesis: The distribution of employee type does not differ significantly by gender.\")\n"
   ]
  },
  {
   "cell_type": "markdown",
   "id": "d2d28858-2606-4c47-b99e-fc03f1de953f",
   "metadata": {},
   "source": [
    "Conclusion: At 0.05 level of significance we have an evidence to say that the distribution of employee type does not differ significantly by gender."
   ]
  }
 ],
 "metadata": {
  "kernelspec": {
   "display_name": "Python 3 (ipykernel)",
   "language": "python",
   "name": "python3"
  },
  "language_info": {
   "codemirror_mode": {
    "name": "ipython",
    "version": 3
   },
   "file_extension": ".py",
   "mimetype": "text/x-python",
   "name": "python",
   "nbconvert_exporter": "python",
   "pygments_lexer": "ipython3",
   "version": "3.11.7"
  }
 },
 "nbformat": 4,
 "nbformat_minor": 5
}
