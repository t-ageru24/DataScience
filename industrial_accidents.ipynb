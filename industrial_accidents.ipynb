{
 "cells": [
  {
   "cell_type": "code",
   "execution_count": 16,
   "id": "d9551ac8-45df-485e-aa4b-213cfcfc427b",
   "metadata": {},
   "outputs": [],
   "source": [
    "import pandas as pd"
   ]
  },
  {
   "cell_type": "code",
   "execution_count": 17,
   "id": "1feca078-81bf-4c14-8302-84fbdc162c6d",
   "metadata": {},
   "outputs": [],
   "source": [
    "df = pd.read_csv(r\"F:\\DS Bootcamp\\New folder (3)\\industrial.csv\")"
   ]
  },
  {
   "cell_type": "code",
   "execution_count": 18,
   "id": "23a4be09-ce4c-4da0-a2df-2b43a702e0fa",
   "metadata": {},
   "outputs": [
    {
     "data": {
      "text/plain": [
       "<bound method NDFrame.head of      Unnamed: 0                 Data   Countries     Local Industry Sector  \\\n",
       "0             0  2016-01-01 00:00:00  Country_01  Local_01          Mining   \n",
       "1             1  2016-01-02 00:00:00  Country_02  Local_02          Mining   \n",
       "2             2  2016-01-06 00:00:00  Country_01  Local_03          Mining   \n",
       "3             3  2016-01-08 00:00:00  Country_01  Local_04          Mining   \n",
       "4             4  2016-01-10 00:00:00  Country_01  Local_04          Mining   \n",
       "..          ...                  ...         ...       ...             ...   \n",
       "420         434  2017-07-04 00:00:00  Country_01  Local_04          Mining   \n",
       "421         435  2017-07-04 00:00:00  Country_01  Local_03          Mining   \n",
       "422         436  2017-07-05 00:00:00  Country_02  Local_09          Metals   \n",
       "423         437  2017-07-06 00:00:00  Country_02  Local_05          Metals   \n",
       "424         438  2017-07-09 00:00:00  Country_01  Local_04          Mining   \n",
       "\n",
       "    Accident Level Potential Accident Level   Genre Employee or Third Party  \\\n",
       "0                I                       IV    Male             Third Party   \n",
       "1                I                       IV    Male                Employee   \n",
       "2                I                      III    Male    Third Party (Remote)   \n",
       "3                I                        I    Male             Third Party   \n",
       "4               IV                       IV    Male             Third Party   \n",
       "..             ...                      ...     ...                     ...   \n",
       "420              I                      III    Male             Third Party   \n",
       "421              I                       II  Female                Employee   \n",
       "422              I                       II    Male                Employee   \n",
       "423              I                       II    Male                Employee   \n",
       "424              I                       II  Female             Third Party   \n",
       "\n",
       "                    Critical Risk  \\\n",
       "0                         Pressed   \n",
       "1             Pressurized Systems   \n",
       "2                    Manual Tools   \n",
       "3                          Others   \n",
       "4                          Others   \n",
       "..                            ...   \n",
       "420                        Others   \n",
       "421                        Others   \n",
       "422              Venomous Animals   \n",
       "423                           Cut   \n",
       "424  Fall prevention (same level)   \n",
       "\n",
       "                                           Description  \n",
       "0    While removing the drill rod of the Jumbo 08 f...  \n",
       "1    During the activation of a sodium sulphide pum...  \n",
       "2    In the sub-station MILPO located at level +170...  \n",
       "3    Being 9:45 am. approximately in the Nv. 1880 C...  \n",
       "4    Approximately at 11:45 a.m. in circumstances t...  \n",
       "..                                                 ...  \n",
       "420  Being approximately 5:00 a.m. approximately, w...  \n",
       "421  The collaborator moved from the infrastructure...  \n",
       "422  During the environmental monitoring activity i...  \n",
       "423  The Employee performed the activity of strippi...  \n",
       "424  At 10:00 a.m., when the assistant cleaned the ...  \n",
       "\n",
       "[425 rows x 11 columns]>"
      ]
     },
     "execution_count": 18,
     "metadata": {},
     "output_type": "execute_result"
    }
   ],
   "source": [
    "df.head"
   ]
  },
  {
   "cell_type": "code",
   "execution_count": 19,
   "id": "76d22cda-7aa1-484f-af40-25613e9fa6b7",
   "metadata": {},
   "outputs": [
    {
     "name": "stdout",
     "output_type": "stream",
     "text": [
      "<class 'pandas.core.frame.DataFrame'>\n",
      "RangeIndex: 425 entries, 0 to 424\n",
      "Data columns (total 11 columns):\n",
      " #   Column                    Non-Null Count  Dtype \n",
      "---  ------                    --------------  ----- \n",
      " 0   Unnamed: 0                425 non-null    int64 \n",
      " 1   Data                      425 non-null    object\n",
      " 2   Countries                 425 non-null    object\n",
      " 3   Local                     425 non-null    object\n",
      " 4   Industry Sector           425 non-null    object\n",
      " 5   Accident Level            425 non-null    object\n",
      " 6   Potential Accident Level  425 non-null    object\n",
      " 7   Genre                     425 non-null    object\n",
      " 8   Employee or Third Party   425 non-null    object\n",
      " 9   Critical Risk             425 non-null    object\n",
      " 10  Description               425 non-null    object\n",
      "dtypes: int64(1), object(10)\n",
      "memory usage: 36.7+ KB\n"
     ]
    }
   ],
   "source": [
    "df.info()"
   ]
  },
  {
   "cell_type": "code",
   "execution_count": 27,
   "id": "e447e6da-673f-4c67-89f0-3af730d4bbec",
   "metadata": {},
   "outputs": [],
   "source": [
    "# EDA"
   ]
  },
  {
   "cell_type": "code",
   "execution_count": 20,
   "id": "8835b214-6c71-4d60-a2ff-b94ee038d350",
   "metadata": {},
   "outputs": [
    {
     "data": {
      "text/plain": [
       "Unnamed: 0                  0\n",
       "Data                        0\n",
       "Countries                   0\n",
       "Local                       0\n",
       "Industry Sector             0\n",
       "Accident Level              0\n",
       "Potential Accident Level    0\n",
       "Genre                       0\n",
       "Employee or Third Party     0\n",
       "Critical Risk               0\n",
       "Description                 0\n",
       "dtype: int64"
      ]
     },
     "execution_count": 20,
     "metadata": {},
     "output_type": "execute_result"
    }
   ],
   "source": [
    "df.isnull().sum()"
   ]
  },
  {
   "cell_type": "code",
   "execution_count": 21,
   "id": "bb445d31-23f8-421b-bfb5-2ac19117df46",
   "metadata": {},
   "outputs": [
    {
     "name": "stdout",
     "output_type": "stream",
     "text": [
      "Index(['Unnamed: 0', 'Data', 'Countries', 'Local', 'Industry Sector',\n",
      "       'Accident Level', 'Potential Accident Level', 'Genre',\n",
      "       'Employee or Third Party', 'Critical Risk', 'Description'],\n",
      "      dtype='object')\n"
     ]
    }
   ],
   "source": [
    "print(df.columns)"
   ]
  },
  {
   "cell_type": "code",
   "execution_count": 39,
   "id": "92ecf59b-4068-48a6-9aa6-535f8a408f68",
   "metadata": {},
   "outputs": [
    {
     "name": "stdout",
     "output_type": "stream",
     "text": [
      "<bound method NDFrame.head of      Unnamed: 0                 Data   Countries     Local Industry Sector  \\\n",
      "0             0  2016-01-01 00:00:00  Country_01  Local_01          Mining   \n",
      "1             1  2016-01-02 00:00:00  Country_02  Local_02          Mining   \n",
      "2             2  2016-01-06 00:00:00  Country_01  Local_03          Mining   \n",
      "3             3  2016-01-08 00:00:00  Country_01  Local_04          Mining   \n",
      "4             4  2016-01-10 00:00:00  Country_01  Local_04          Mining   \n",
      "..          ...                  ...         ...       ...             ...   \n",
      "420         434  2017-07-04 00:00:00  Country_01  Local_04          Mining   \n",
      "421         435  2017-07-04 00:00:00  Country_01  Local_03          Mining   \n",
      "422         436  2017-07-05 00:00:00  Country_02  Local_09          Metals   \n",
      "423         437  2017-07-06 00:00:00  Country_02  Local_05          Metals   \n",
      "424         438  2017-07-09 00:00:00  Country_01  Local_04          Mining   \n",
      "\n",
      "    Accident Level Potential Accident Level   Genre Employee or Third Party  \\\n",
      "0                I                       IV    Male             Third Party   \n",
      "1                I                       IV    Male                Employee   \n",
      "2                I                      III    Male    Third Party (Remote)   \n",
      "3                I                        I    Male             Third Party   \n",
      "4               IV                       IV    Male             Third Party   \n",
      "..             ...                      ...     ...                     ...   \n",
      "420              I                      III    Male             Third Party   \n",
      "421              I                       II  Female                Employee   \n",
      "422              I                       II    Male                Employee   \n",
      "423              I                       II    Male                Employee   \n",
      "424              I                       II  Female             Third Party   \n",
      "\n",
      "                    Critical Risk  \\\n",
      "0                         Pressed   \n",
      "1             Pressurized Systems   \n",
      "2                    Manual Tools   \n",
      "3                          Others   \n",
      "4                          Others   \n",
      "..                            ...   \n",
      "420                        Others   \n",
      "421                        Others   \n",
      "422              Venomous Animals   \n",
      "423                           Cut   \n",
      "424  Fall prevention (same level)   \n",
      "\n",
      "                                           Description  \n",
      "0    While removing the drill rod of the Jumbo 08 f...  \n",
      "1    During the activation of a sodium sulphide pum...  \n",
      "2    In the sub-station MILPO located at level +170...  \n",
      "3    Being 9:45 am. approximately in the Nv. 1880 C...  \n",
      "4    Approximately at 11:45 a.m. in circumstances t...  \n",
      "..                                                 ...  \n",
      "420  Being approximately 5:00 a.m. approximately, w...  \n",
      "421  The collaborator moved from the infrastructure...  \n",
      "422  During the environmental monitoring activity i...  \n",
      "423  The Employee performed the activity of strippi...  \n",
      "424  At 10:00 a.m., when the assistant cleaned the ...  \n",
      "\n",
      "[425 rows x 11 columns]>\n"
     ]
    }
   ],
   "source": [
    "print(df.head)"
   ]
  },
  {
   "cell_type": "code",
   "execution_count": 22,
   "id": "ce7bda22-4ebf-425f-a6ba-ef0d00d70115",
   "metadata": {},
   "outputs": [
    {
     "name": "stdout",
     "output_type": "stream",
     "text": [
      "Index(['Unnamed: 0', 'Data', 'Countries', 'Local', 'Industry Sector',\n",
      "       'Accident Level', 'Potential Accident Level', 'Genre',\n",
      "       'Employee or Third Party', 'Critical Risk', 'Description'],\n",
      "      dtype='object')\n"
     ]
    }
   ],
   "source": [
    "print(df.columns)"
   ]
  },
  {
   "cell_type": "code",
   "execution_count": 23,
   "id": "7c5c4464-7535-4f1d-81ef-5d152ff6255d",
   "metadata": {},
   "outputs": [],
   "source": [
    "df.rename(columns={'Unnamed: 0':'ID', 'Genre':'Gender'},inplace= True)"
   ]
  },
  {
   "cell_type": "code",
   "execution_count": 24,
   "id": "a38af427-0f54-43c7-bb56-735700efe4ac",
   "metadata": {},
   "outputs": [
    {
     "name": "stdout",
     "output_type": "stream",
     "text": [
      "Index(['ID', 'Data', 'Countries', 'Local', 'Industry Sector', 'Accident Level',\n",
      "       'Potential Accident Level', 'Gender', 'Employee or Third Party',\n",
      "       'Critical Risk', 'Description'],\n",
      "      dtype='object')\n"
     ]
    }
   ],
   "source": [
    "print(df.columns)"
   ]
  },
  {
   "cell_type": "code",
   "execution_count": 25,
   "id": "4a2afd46-a5ef-456b-b784-ce4e80e2f08a",
   "metadata": {},
   "outputs": [
    {
     "name": "stdout",
     "output_type": "stream",
     "text": [
      "Defaulting to user installation because normal site-packages is not writeable\n",
      "Requirement already satisfied: seaborn in e:\\newfolder1\\lib\\site-packages (0.12.2)\n",
      "Requirement already satisfied: numpy!=1.24.0,>=1.17 in e:\\newfolder1\\lib\\site-packages (from seaborn) (1.26.4)\n",
      "Requirement already satisfied: pandas>=0.25 in c:\\users\\asf\\appdata\\roaming\\python\\python311\\site-packages (from seaborn) (2.2.2)\n",
      "Requirement already satisfied: matplotlib!=3.6.1,>=3.1 in e:\\newfolder1\\lib\\site-packages (from seaborn) (3.8.0)\n",
      "Requirement already satisfied: contourpy>=1.0.1 in e:\\newfolder1\\lib\\site-packages (from matplotlib!=3.6.1,>=3.1->seaborn) (1.2.0)\n",
      "Requirement already satisfied: cycler>=0.10 in e:\\newfolder1\\lib\\site-packages (from matplotlib!=3.6.1,>=3.1->seaborn) (0.11.0)\n",
      "Requirement already satisfied: fonttools>=4.22.0 in e:\\newfolder1\\lib\\site-packages (from matplotlib!=3.6.1,>=3.1->seaborn) (4.25.0)\n",
      "Requirement already satisfied: kiwisolver>=1.0.1 in e:\\newfolder1\\lib\\site-packages (from matplotlib!=3.6.1,>=3.1->seaborn) (1.4.4)\n",
      "Requirement already satisfied: packaging>=20.0 in e:\\newfolder1\\lib\\site-packages (from matplotlib!=3.6.1,>=3.1->seaborn) (23.1)\n",
      "Requirement already satisfied: pillow>=6.2.0 in e:\\newfolder1\\lib\\site-packages (from matplotlib!=3.6.1,>=3.1->seaborn) (10.2.0)\n",
      "Requirement already satisfied: pyparsing>=2.3.1 in e:\\newfolder1\\lib\\site-packages (from matplotlib!=3.6.1,>=3.1->seaborn) (3.0.9)\n",
      "Requirement already satisfied: python-dateutil>=2.7 in e:\\newfolder1\\lib\\site-packages (from matplotlib!=3.6.1,>=3.1->seaborn) (2.8.2)\n",
      "Requirement already satisfied: pytz>=2020.1 in e:\\newfolder1\\lib\\site-packages (from pandas>=0.25->seaborn) (2023.3.post1)\n",
      "Requirement already satisfied: tzdata>=2022.7 in e:\\newfolder1\\lib\\site-packages (from pandas>=0.25->seaborn) (2023.3)\n",
      "Requirement already satisfied: six>=1.5 in e:\\newfolder1\\lib\\site-packages (from python-dateutil>=2.7->matplotlib!=3.6.1,>=3.1->seaborn) (1.16.0)\n"
     ]
    }
   ],
   "source": [
    "!pip install seaborn"
   ]
  },
  {
   "cell_type": "code",
   "execution_count": 43,
   "id": "02912314-ef0b-4121-a7f1-0ea42192b112",
   "metadata": {},
   "outputs": [],
   "source": [
    "import seaborn as sns"
   ]
  },
  {
   "cell_type": "code",
   "execution_count": 44,
   "id": "a10fdcf0-f7c0-4112-b2d8-a098599b3c89",
   "metadata": {},
   "outputs": [],
   "source": [
    "ID=[500,1000,1500]"
   ]
  },
  {
   "cell_type": "code",
   "execution_count": 45,
   "id": "caacaf68-bcac-43c0-abd0-d055a2b93f58",
   "metadata": {},
   "outputs": [],
   "source": [
    "counts=[0,1000,2000]"
   ]
  },
  {
   "cell_type": "code",
   "execution_count": 46,
   "id": "d3ea73ad-8eab-4fbd-acd9-1847cbd3307b",
   "metadata": {},
   "outputs": [],
   "source": [
    "import matplotlib.pyplot as plt"
   ]
  },
  {
   "cell_type": "code",
   "execution_count": 54,
   "id": "354075ec-3fbf-4ba7-bf69-37b75a8064ed",
   "metadata": {},
   "outputs": [],
   "source": []
  },
  {
   "cell_type": "code",
   "execution_count": 55,
   "id": "e2b2b198-a224-4e66-a4a1-d82093883cb6",
   "metadata": {},
   "outputs": [],
   "source": []
  },
  {
   "cell_type": "code",
   "execution_count": null,
   "id": "05d6b8f2-17be-44f1-a146-0167d7d0f890",
   "metadata": {},
   "outputs": [],
   "source": []
  },
  {
   "cell_type": "code",
   "execution_count": null,
   "id": "fa78e51c-b974-4221-83fe-6f3d5ad8881b",
   "metadata": {},
   "outputs": [],
   "source": []
  }
 ],
 "metadata": {
  "kernelspec": {
   "display_name": "Python 3 (ipykernel)",
   "language": "python",
   "name": "python3"
  },
  "language_info": {
   "codemirror_mode": {
    "name": "ipython",
    "version": 3
   },
   "file_extension": ".py",
   "mimetype": "text/x-python",
   "name": "python",
   "nbconvert_exporter": "python",
   "pygments_lexer": "ipython3",
   "version": "3.11.7"
  }
 },
 "nbformat": 4,
 "nbformat_minor": 5
}
